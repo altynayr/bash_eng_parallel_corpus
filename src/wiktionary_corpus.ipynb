{
 "cells": [
  {
   "cell_type": "markdown",
   "metadata": {},
   "source": [
    "# Wiktionary"
   ]
  },
  {
   "cell_type": "markdown",
   "metadata": {},
   "source": [
    "The souce of the data was downloaded from Wikimedia dumps using the information on this page https://en.wiktionary.org/wiki/Wiktionary:Parsing. The data were accessed from https://dumps.wikimedia.org/enwiktionary/, for this particular run it was the October 21 2022 dump. One needs to download a compressed file enwiktionary-20221020-pages-articles.xml.bz2 and extract it.\n",
    "Next the document is processed line by line in the first part of the following script so that at any time the contents of a single Wiktionary page are in memory."
   ]
  },
  {
   "cell_type": "code",
   "execution_count": 1,
   "metadata": {},
   "outputs": [],
   "source": [
    "import pandas as pd\n",
    "import numpy as np\n",
    "import os\n",
    "from bs4 import BeautifulSoup as soup\n",
    "import lxml\n",
    "import re\n",
    "\n",
    "# Wiktionary dump\n",
    "file_name = '../wiktionary/enwiktionary-20221020-pages-articles.xml'"
   ]
  },
  {
   "cell_type": "markdown",
   "metadata": {},
   "source": [
    "## Extract from XML"
   ]
  },
  {
   "cell_type": "markdown",
   "metadata": {},
   "source": [
    "### Rough estimate N of Bak sentences"
   ]
  },
  {
   "cell_type": "code",
   "execution_count": 88,
   "metadata": {
    "collapsed": true,
    "jupyter": {
     "outputs_hidden": true
    }
   },
   "outputs": [
    {
     "name": "stdout",
     "output_type": "stream",
     "text": [
      "2872\n",
      "* Bashkir: {{t|ba|һүҙлек}}\n",
      "\n",
      "* Bashkir: {{t|ba|ирекле|sc=Cyrl}}, {{t|ba|азат|sc=Cyrl}}, {{t|ba|бәйһеҙ|sc=Cyrl}}, {{t|ba|хөр|sc=Cyrl}}\n",
      "\n",
      "* Bashkir: {{t|ba|иркен|sc=Cyrl}}\n",
      "\n",
      "* Bashkir: {{t|ba|буш|sc=Cyrl}}\n",
      "\n",
      "* Bashkir: {{t|ba|буш|sc=Cyrl}}, {{t|ba|ирекле|sc=Cyrl}}\n",
      "\n",
      "* Bashkir: {{t|ba|түләүһеҙ|sc=Cyrl}}\n",
      "\n",
      "* Bashkir: {{t|ba|-һыҙ|sc=Cyrl}} / {{t|ba|-һеҙ|sc=Cyrl}}, {{t|ba|-һоҙ|sc=Cyrl}} / {{t|ba|-һөҙ|sc=Cyrl}}\n",
      "\n",
      "* Bashkir: {{tt|ba|һүҙ}}\n",
      "\n",
      "* Bashkir: {{t|ba|быуа}}\n",
      "\n",
      "* Bashkir: {{t|ba|бәлеш|sc=Cyrl}}\n",
      "\n",
      "* Bashkir: {{t|ba|ҡарға|sc=Cyrl}}\n",
      "\n",
      "* Bashkir: {{t|ba|ҡоҙғон}}\n",
      "\n",
      "* Bashkir: {{t|ba|фил}}\n",
      "\n",
      "* Bashkir: {{t|ba|көрән|sc=Cyrl}}\n",
      "\n",
      "* Bashkir: {{t|ba|көрән|sc=Cyrl}}\n",
      "\n",
      "* Bashkir: {{t|ba|ай}}\n",
      "\n",
      "* Bashkir: {{t|ba|ғинуар|sc=Cyrl}}\n",
      "\n",
      "* Bashkir: {{t|ba|февраль|sc=Cyrl}}\n",
      "\n",
      "* Bashkir: {{t|ba|дүшәмбе}}\n",
      "\n",
      "* Bashkir: {{t|ba|шишәмбе}}\n",
      "\n",
      "* Bashkir: {{t|ba|шаршамбы}}\n",
      "\n"
     ]
    }
   ],
   "source": [
    "i = 0\n",
    "\n",
    "with open(file_name, 'r') as f:\n",
    "    for line in f:\n",
    "        if '==Bashkir==' in line:\n",
    "            i = i+1\n",
    "print(i)\n",
    "\n",
    "i = 0\n",
    "with open(file_name, 'r') as f:\n",
    "    for line in f:\n",
    "        if 'Bashkir' in line:\n",
    "            print(line)\n",
    "            i = i+1\n",
    "        if i > 20:\n",
    "            break"
   ]
  },
  {
   "cell_type": "markdown",
   "metadata": {},
   "source": [
    "### Extract Bashkir sentences"
   ]
  },
  {
   "cell_type": "code",
   "execution_count": 18,
   "metadata": {},
   "outputs": [],
   "source": [
    "i = 0\n",
    "page_n = 0\n",
    "page = False\n",
    "end_page = False\n",
    "document = \"\"\n",
    "# bak_pages = []\n",
    "soup_i = soup(\"\")\n",
    "examples = []\n",
    "\n",
    "out_file_name = 'sentences.txt'\n",
    "\n",
    "with open(file_name, 'r') as f:\n",
    "    for line in f:\n",
    "        if '<page>' in line:\n",
    "            page_n = page_n + 1\n",
    "            page = True\n",
    "    \n",
    "        if page:\n",
    "            document = document + line\n",
    "            \n",
    "        if '</page>' in line:\n",
    "            end_page = True\n",
    "            \n",
    "            soup_i = soup(document, 'lxml')\n",
    "            if '==Bashkir==' in soup_i.text:\n",
    "                \n",
    "                if len(soup_i.title.text) > 1:\n",
    "                    \n",
    "                    for match in re.finditer(\"{{ux\\|ba\\|.+}}\", soup_i.text):\n",
    "                        with open(out_file_name, 'a') as out:\n",
    "                            out.write(soup_i.text[match.start():match.end()])\n",
    "                            # print(soup_i.text[match.start():match.end()])\n",
    "\n",
    "            document = \"\""
   ]
  },
  {
   "cell_type": "markdown",
   "metadata": {},
   "source": [
    "## Split sentences"
   ]
  },
  {
   "cell_type": "code",
   "execution_count": 2,
   "metadata": {},
   "outputs": [
    {
     "name": "stdout",
     "output_type": "stream",
     "text": [
      "3015\n",
      "3015\n"
     ]
    }
   ],
   "source": [
    "with open('sentences.txt') as g:\n",
    "    text = g.readlines()\n",
    "\n",
    "pairs = text[0].split(\"}}{{\")\n",
    "\n",
    "text_df = pd.DataFrame(pairs, columns = [\"text\"])\n",
    "\n",
    "print(text_df.size)\n",
    "print(len(pairs))"
   ]
  },
  {
   "cell_type": "code",
   "execution_count": 5,
   "metadata": {
    "collapsed": true,
    "jupyter": {
     "outputs_hidden": true
    }
   },
   "outputs": [
    {
     "data": {
      "text/plain": [
       "[\"ux|ba|Билдәле булыуынса, ташкүмер дәүерендә '''Ерҙә''' һөтимәрҙәр ҙә, ҡоштар ҙа булмаған; һаҙамыҡтарҙа ҡаҙаяҡ һәм ҡырҡбыуын ағастары үҫкән.|translation=As is known, there were neither mammals nor birds '''on the Earth''' in the Carboniferous period; ferns and equisetum grew in marshy areas.\",\n",
       " \"ux|ba|Һәр кеше солоғона үҙенең '''тамғаһын''' һалған.|translation=Every person put '''his/her mark''' of ownership on his/her log hive.\",\n",
       " \"ux|ba|'''Тимер''' рудаһы.|translation='''Iron''' ore.\",\n",
       " \"ux|ba|Ниңәлер '''беҙҙә''' шәреҡ ҡатын-ҡыҙҙарына йәлләү менән ҡарайҙар, йәнәhе, улар азатлығы сикле, ситлектәге ҡош хәлендә көн күрәләр.|translation=For some reason, ''(they)'' '''in our communities''' look at eastern women with pity; purportedly, they live with limited freedom, like a bird in a cage.\",\n",
       " \"ux|ba|Төнгә '''ҡаршы'''.|translation=When it's nearly dark, when the night is about to begin.\",\n",
       " \"ux|ba|'''Ҡыярҙы''' апрель аҙағында сәсәм, май аҙағында үҫентеләрҙе түтәлгә күсерәм.|translation=I plant '''cucumbers''' at the end of April ''(and)'' transplant the seedlings to the garden bed at the end of May.\",\n",
       " \"ux|ba|Өлкән быуынға ҡарата '''ихтирам'''.|translation=The '''respect''' for the old generation.\",\n",
       " \"ux|ba|Байрам һуңында һаламдан, сепрәк-сапраҡтан эшләнгән '''ҡарасҡыны''' яндырып, ҡышты оҙаттылар.|translation=At the end of the festivity, they burned an '''effigy''' made of straw and rags to bid the winter farewell.\",\n",
       " \"ux|ba|Башҡорт телендә '''баҫым''' күпселек осраҡтарҙа аҙаҡҡы ижеккә төшә.|translation=In the Bashkir language, the '''stress''' in most cases falls on the last syllable.\",\n",
       " \"ux|ba|Мә, ошо ҡолондо ат итеп үҫтер ҙә '''менеп йөрөрһөң'''.|translation=Here, grow this foal into a horse and '''you will ride''' it.\",\n",
       " \"ux|ba|Ҡатын-ҡыҙҙар өсөн машина йөрөтә белеү — заман '''талабы'''.|translation=For women to be able to drive a car is the modern time’s '''necessity''' ''(=part of modern life)''.\",\n",
       " \"ux|ba|Ит менән '''картуфты''' бергә бөтөнләй ашамағыҙ.|t=Do not eat together meat and '''potato''' at all.\",\n",
       " \"ux|ba|Һәр Интернет ҡулланыусыһы Википедияға — мәҫәлән, яңы '''мәҡәлә''' яҙып йәки булғандарын төҙәтеп — үҙ өлөшөн индерә ала.|translation=Every Internet user can make his/her contribution to Wikipedia — for example, by writing a new '''article''' or by editing the existing ''(articles)''.\",\n",
       " \"ux|ba|Тираж, билдәле булыуынса, баҫма абруйының '''төп''' күрһәткесе.|translation=The circulation, as is known, is the '''main''' indicator of a periodical's authoritativeness.\",\n",
       " \"ux|ba|Һәр урмандың '''үҙ''' һандуғасы, һәр ауылдың '''үҙ''' гармунсыһы бар.|translation=Each forest has '''its own''' nightingale, each village has '''its own''' garmon player.\",\n",
       " \"ux|ba|Ышаныс бөткән. '''Артабан''' нисек йәшәргә?|translation=Hope has finished ''(=died)''. How to live '''hereafter''' ''(=how can we go on)''?\",\n",
       " \"ux|ba|'''Тәмәке тартыу''' шулай уҡ тирә-яҡтағы кешеләр өсөн дә хәүефле.|t='''Smoking''' is also dangerous to the people around ''(the smoker)''.\",\n",
       " \"ux|ba|Ниһәйәт, '''текә''' яланғас бер ҡая юлымды ҡапланы, һәм туҡтарға мәжбүр булдым.|translation=At last, a '''steep''' bald rock barred my way, and ''(I)'' had to stop.\",\n",
       " \"ux|ba|Урының '''йәннәттә''' булһын!|translation=May your place be '''in the paradise'''!\",\n",
       " \"ux|ba|Башҡорт '''теле'''.|translation=The Bashkir '''language'''.\"]"
      ]
     },
     "execution_count": 5,
     "metadata": {},
     "output_type": "execute_result"
    }
   ],
   "source": [
    "text_df.sample(n = 20, replace = False, random_state = 123456).text.tolist()"
   ]
  },
  {
   "cell_type": "markdown",
   "metadata": {},
   "source": [
    "### Where translations can be seen"
   ]
  },
  {
   "cell_type": "code",
   "execution_count": 3,
   "metadata": {},
   "outputs": [
    {
     "data": {
      "text/plain": [
       "2838"
      ]
     },
     "execution_count": 3,
     "metadata": {},
     "output_type": "execute_result"
    }
   ],
   "source": [
    "visible_translations = text_df.text.str.contains('\\|translation=|\\|t=')\n",
    "text_df[visible_translations].size"
   ]
  },
  {
   "cell_type": "code",
   "execution_count": 4,
   "metadata": {},
   "outputs": [
    {
     "data": {
      "text/html": [
       "<div>\n",
       "<style scoped>\n",
       "    .dataframe tbody tr th:only-of-type {\n",
       "        vertical-align: middle;\n",
       "    }\n",
       "\n",
       "    .dataframe tbody tr th {\n",
       "        vertical-align: top;\n",
       "    }\n",
       "\n",
       "    .dataframe thead th {\n",
       "        text-align: right;\n",
       "    }\n",
       "</style>\n",
       "<table border=\"1\" class=\"dataframe\">\n",
       "  <thead>\n",
       "    <tr style=\"text-align: right;\">\n",
       "      <th></th>\n",
       "      <th>text</th>\n",
       "    </tr>\n",
       "  </thead>\n",
       "  <tbody>\n",
       "    <tr>\n",
       "      <th>2581</th>\n",
       "      <td>ux|ba|Яман шеш йоҡмай, тибеҙ, ләкин уны булдыр...</td>\n",
       "    </tr>\n",
       "    <tr>\n",
       "      <th>2503</th>\n",
       "      <td>ux|ba|'''Иртәнсәктән''' борғо һәм барабан тауы...</td>\n",
       "    </tr>\n",
       "    <tr>\n",
       "      <th>792</th>\n",
       "      <td>ux|ba|'''Иҙән''' таҡтаһы.|'''Floor'''board.</td>\n",
       "    </tr>\n",
       "    <tr>\n",
       "      <th>938</th>\n",
       "      <td>ux|ba|Бөйөк Ватан '''һуғышы'''.|inline=1|The [...</td>\n",
       "    </tr>\n",
       "    <tr>\n",
       "      <th>1196</th>\n",
       "      <td>ux|ba|[[Ринат]] '''Себерҙә''' [[вахта]] [[ысул...</td>\n",
       "    </tr>\n",
       "    <tr>\n",
       "      <th>2790</th>\n",
       "      <td>ux|ba|Кем '''белә''', бәлки, башҡа сәбәбе лә б...</td>\n",
       "    </tr>\n",
       "    <tr>\n",
       "      <th>46</th>\n",
       "      <td>ux|ba|Халыҡ һаны буйынса Франция Европала '''Г...</td>\n",
       "    </tr>\n",
       "    <tr>\n",
       "      <th>679</th>\n",
       "      <td>ux|ba|Тап шундай берәҙәк эттәр ваҡ мал һәм ҡош...</td>\n",
       "    </tr>\n",
       "    <tr>\n",
       "      <th>1006</th>\n",
       "      <td>ux|ba|Кәнфит '''ҡумтаһы'''.|A '''box''' of can...</td>\n",
       "    </tr>\n",
       "    <tr>\n",
       "      <th>816</th>\n",
       "      <td>ux|ba|Санкт-Петербургтағы террор '''ғәмәле'''....</td>\n",
       "    </tr>\n",
       "    <tr>\n",
       "      <th>819</th>\n",
       "      <td>ux|ba|Элекке өлгөләге паспорттар үҙҙәренең ваҡ...</td>\n",
       "    </tr>\n",
       "    <tr>\n",
       "      <th>371</th>\n",
       "      <td>ux|ba|'''Балыҡ''' һатыусы.|'''Fish''' seller.</td>\n",
       "    </tr>\n",
       "    <tr>\n",
       "      <th>1273</th>\n",
       "      <td>ux|ba|Тәбиғәт миҙгеле кеүек, һәр ғүмер миҙгеле...</td>\n",
       "    </tr>\n",
       "    <tr>\n",
       "      <th>307</th>\n",
       "      <td>ux|ba|Иң ҡурҡынысы — үҫмер '''балаңдың''' кеҫә...</td>\n",
       "    </tr>\n",
       "    <tr>\n",
       "      <th>225</th>\n",
       "      <td>ux|ba|Ғәйепле тип танылған кешеләрҙе ас '''ары...</td>\n",
       "    </tr>\n",
       "    <tr>\n",
       "      <th>466</th>\n",
       "      <td>ux|ba|Муйнаҡ, ауыҙына һөйәк ҡабып, '''күперҙән...</td>\n",
       "    </tr>\n",
       "    <tr>\n",
       "      <th>1413</th>\n",
       "      <td>ux|ba|Йөрәк '''яраһы'''.|An emotional '''traum...</td>\n",
       "    </tr>\n",
       "    <tr>\n",
       "      <th>814</th>\n",
       "      <td>ux|ba|Ниәт — ярты '''ғәмәл'''.|An intention is...</td>\n",
       "    </tr>\n",
       "    <tr>\n",
       "      <th>1910</th>\n",
       "      <td>ux|ba|Магнит '''даирәһе'''.|Magnetic '''field'''.</td>\n",
       "    </tr>\n",
       "    <tr>\n",
       "      <th>433</th>\n",
       "      <td>ux|ba|'''Башҡортостанда''' талпандар уянған: ө...</td>\n",
       "    </tr>\n",
       "  </tbody>\n",
       "</table>\n",
       "</div>"
      ],
      "text/plain": [
       "                                                   text\n",
       "2581  ux|ba|Яман шеш йоҡмай, тибеҙ, ләкин уны булдыр...\n",
       "2503  ux|ba|'''Иртәнсәктән''' борғо һәм барабан тауы...\n",
       "792         ux|ba|'''Иҙән''' таҡтаһы.|'''Floor'''board.\n",
       "938   ux|ba|Бөйөк Ватан '''һуғышы'''.|inline=1|The [...\n",
       "1196  ux|ba|[[Ринат]] '''Себерҙә''' [[вахта]] [[ысул...\n",
       "2790  ux|ba|Кем '''белә''', бәлки, башҡа сәбәбе лә б...\n",
       "46    ux|ba|Халыҡ һаны буйынса Франция Европала '''Г...\n",
       "679   ux|ba|Тап шундай берәҙәк эттәр ваҡ мал һәм ҡош...\n",
       "1006  ux|ba|Кәнфит '''ҡумтаһы'''.|A '''box''' of can...\n",
       "816   ux|ba|Санкт-Петербургтағы террор '''ғәмәле'''....\n",
       "819   ux|ba|Элекке өлгөләге паспорттар үҙҙәренең ваҡ...\n",
       "371       ux|ba|'''Балыҡ''' һатыусы.|'''Fish''' seller.\n",
       "1273  ux|ba|Тәбиғәт миҙгеле кеүек, һәр ғүмер миҙгеле...\n",
       "307   ux|ba|Иң ҡурҡынысы — үҫмер '''балаңдың''' кеҫә...\n",
       "225   ux|ba|Ғәйепле тип танылған кешеләрҙе ас '''ары...\n",
       "466   ux|ba|Муйнаҡ, ауыҙына һөйәк ҡабып, '''күперҙән...\n",
       "1413  ux|ba|Йөрәк '''яраһы'''.|An emotional '''traum...\n",
       "814   ux|ba|Ниәт — ярты '''ғәмәл'''.|An intention is...\n",
       "1910  ux|ba|Магнит '''даирәһе'''.|Magnetic '''field'''.\n",
       "433   ux|ba|'''Башҡортостанда''' талпандар уянған: ө..."
      ]
     },
     "execution_count": 4,
     "metadata": {},
     "output_type": "execute_result"
    }
   ],
   "source": [
    "text_df[~visible_translations].sample(n = 20, random_state=1111, replace = False)"
   ]
  },
  {
   "cell_type": "code",
   "execution_count": 32,
   "metadata": {},
   "outputs": [
    {
     "data": {
      "text/html": [
       "<div>\n",
       "<style scoped>\n",
       "    .dataframe tbody tr th:only-of-type {\n",
       "        vertical-align: middle;\n",
       "    }\n",
       "\n",
       "    .dataframe tbody tr th {\n",
       "        vertical-align: top;\n",
       "    }\n",
       "\n",
       "    .dataframe thead th {\n",
       "        text-align: right;\n",
       "    }\n",
       "</style>\n",
       "<table border=\"1\" class=\"dataframe\">\n",
       "  <thead>\n",
       "    <tr style=\"text-align: right;\">\n",
       "      <th></th>\n",
       "      <th>bak</th>\n",
       "      <th>en</th>\n",
       "    </tr>\n",
       "  </thead>\n",
       "  <tbody>\n",
       "    <tr>\n",
       "      <th>1</th>\n",
       "      <td>Баҙарҙан ике тоҡ '''он''' һатып алдым.</td>\n",
       "      <td>I bought two sacks of '''flour''' at the marke...</td>\n",
       "    </tr>\n",
       "    <tr>\n",
       "      <th>2</th>\n",
       "      <td>Табаҡҡа биш йомортҡа һытығыҙ, '''ондо''' ҡушып...</td>\n",
       "      <td>Crack five eggs into the bowl, add '''flour'''...</td>\n",
       "    </tr>\n",
       "    <tr>\n",
       "      <th>3</th>\n",
       "      <td>Ҡул '''арбаһы'''.</td>\n",
       "      <td>Hand '''cart'''.</td>\n",
       "    </tr>\n",
       "    <tr>\n",
       "      <th>4</th>\n",
       "      <td>Көҙөн Сания бар донъяһын '''арбаға''' тейәп, к...</td>\n",
       "      <td>In the autumn, Saniya loaded all her belonging...</td>\n",
       "    </tr>\n",
       "  </tbody>\n",
       "</table>\n",
       "</div>"
      ],
      "text/plain": [
       "                                                 bak  \\\n",
       "1             Баҙарҙан ике тоҡ '''он''' һатып алдым.   \n",
       "2  Табаҡҡа биш йомортҡа һытығыҙ, '''ондо''' ҡушып...   \n",
       "3                                  Ҡул '''арбаһы'''.   \n",
       "4  Көҙөн Сания бар донъяһын '''арбаға''' тейәп, к...   \n",
       "\n",
       "                                                  en  \n",
       "1  I bought two sacks of '''flour''' at the marke...  \n",
       "2  Crack five eggs into the bowl, add '''flour'''...  \n",
       "3                                   Hand '''cart'''.  \n",
       "4  In the autumn, Saniya loaded all her belonging...  "
      ]
     },
     "execution_count": 32,
     "metadata": {},
     "output_type": "execute_result"
    }
   ],
   "source": [
    "text_split = text_df[visible_translations].text.str.replace(\"ux\\|ba\\|\", \"\").str.split(\"\\|t=|\\|translation=\", expand = True)\n",
    "text_split.columns = ['bak', 'en']\n",
    "text_split[1:5]"
   ]
  },
  {
   "cell_type": "code",
   "execution_count": 29,
   "metadata": {},
   "outputs": [
    {
     "data": {
      "text/html": [
       "<div>\n",
       "<style scoped>\n",
       "    .dataframe tbody tr th:only-of-type {\n",
       "        vertical-align: middle;\n",
       "    }\n",
       "\n",
       "    .dataframe tbody tr th {\n",
       "        vertical-align: top;\n",
       "    }\n",
       "\n",
       "    .dataframe thead th {\n",
       "        text-align: right;\n",
       "    }\n",
       "</style>\n",
       "<table border=\"1\" class=\"dataframe\">\n",
       "  <thead>\n",
       "    <tr style=\"text-align: right;\">\n",
       "      <th></th>\n",
       "      <th>bak</th>\n",
       "      <th>en</th>\n",
       "    </tr>\n",
       "  </thead>\n",
       "  <tbody>\n",
       "  </tbody>\n",
       "</table>\n",
       "</div>"
      ],
      "text/plain": [
       "Empty DataFrame\n",
       "Columns: [bak, en]\n",
       "Index: []"
      ]
     },
     "execution_count": 29,
     "metadata": {},
     "output_type": "execute_result"
    }
   ],
   "source": [
    "text_split[text_split.isna().any(1)]"
   ]
  },
  {
   "cell_type": "code",
   "execution_count": 37,
   "metadata": {},
   "outputs": [
    {
     "data": {
      "text/html": [
       "<div>\n",
       "<style scoped>\n",
       "    .dataframe tbody tr th:only-of-type {\n",
       "        vertical-align: middle;\n",
       "    }\n",
       "\n",
       "    .dataframe tbody tr th {\n",
       "        vertical-align: top;\n",
       "    }\n",
       "\n",
       "    .dataframe thead th {\n",
       "        text-align: right;\n",
       "    }\n",
       "</style>\n",
       "<table border=\"1\" class=\"dataframe\">\n",
       "  <thead>\n",
       "    <tr style=\"text-align: right;\">\n",
       "      <th></th>\n",
       "      <th>bak</th>\n",
       "      <th>en</th>\n",
       "    </tr>\n",
       "  </thead>\n",
       "  <tbody>\n",
       "    <tr>\n",
       "      <th>1</th>\n",
       "      <td>Баҙарҙан ике тоҡ он һатып алдым.</td>\n",
       "      <td>I bought two sacks of flour at the marketplace.</td>\n",
       "    </tr>\n",
       "    <tr>\n",
       "      <th>2</th>\n",
       "      <td>Табаҡҡа биш йомортҡа һытығыҙ, ондо ҡушып болға...</td>\n",
       "      <td>Crack five eggs into the bowl, add flour and s...</td>\n",
       "    </tr>\n",
       "    <tr>\n",
       "      <th>3</th>\n",
       "      <td>Ҡул арбаһы.</td>\n",
       "      <td>Hand cart.</td>\n",
       "    </tr>\n",
       "    <tr>\n",
       "      <th>4</th>\n",
       "      <td>Көҙөн Сания бар донъяһын арбаға тейәп, күрше а...</td>\n",
       "      <td>In the autumn, Saniya loaded all her belonging...</td>\n",
       "    </tr>\n",
       "  </tbody>\n",
       "</table>\n",
       "</div>"
      ],
      "text/plain": [
       "                                                 bak  \\\n",
       "1                   Баҙарҙан ике тоҡ он һатып алдым.   \n",
       "2  Табаҡҡа биш йомортҡа һытығыҙ, ондо ҡушып болға...   \n",
       "3                                        Ҡул арбаһы.   \n",
       "4  Көҙөн Сания бар донъяһын арбаға тейәп, күрше а...   \n",
       "\n",
       "                                                  en  \n",
       "1    I bought two sacks of flour at the marketplace.  \n",
       "2  Crack five eggs into the bowl, add flour and s...  \n",
       "3                                         Hand cart.  \n",
       "4  In the autumn, Saniya loaded all her belonging...  "
      ]
     },
     "execution_count": 37,
     "metadata": {},
     "output_type": "execute_result"
    }
   ],
   "source": [
    "corpus_clean = pd.DataFrame()\n",
    "corpus_clean['bak'] = text_split.bak.str.replace(pat = \"{+|'+|}+\", repl = \"\")\n",
    "corpus_clean['en'] = text_split.en.str.replace(pat = \"{+|'+|}+\", repl = \"\")\n",
    "corpus_clean[1:5]"
   ]
  },
  {
   "cell_type": "code",
   "execution_count": 41,
   "metadata": {},
   "outputs": [],
   "source": [
    "corpus_clean.to_csv(\"../parallel_corpus/wiktionary_202210.csv\")"
   ]
  }
 ],
 "metadata": {
  "kernelspec": {
   "display_name": "Python 3",
   "language": "python",
   "name": "python3"
  },
  "language_info": {
   "codemirror_mode": {
    "name": "ipython",
    "version": 3
   },
   "file_extension": ".py",
   "mimetype": "text/x-python",
   "name": "python",
   "nbconvert_exporter": "python",
   "pygments_lexer": "ipython3",
   "version": "3.8.2"
  }
 },
 "nbformat": 4,
 "nbformat_minor": 4
}
